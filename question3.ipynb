{
 "cells": [
  {
   "cell_type": "code",
   "execution_count": 1,
   "id": "43dc3645-9fb4-46d1-b718-da78e0a9065a",
   "metadata": {},
   "outputs": [],
   "source": [
    "import pandas as pd"
   ]
  },
  {
   "cell_type": "code",
   "execution_count": 7,
   "id": "b17da1f3-6916-4b8d-8018-296f58f728a4",
   "metadata": {},
   "outputs": [],
   "source": [
    "POUNDS_TO_KG = 0.453592\n",
    "YARDS_TO_METERS = 0.9144"
   ]
  },
  {
   "cell_type": "code",
   "execution_count": 8,
   "id": "541cada2-bfae-47a3-8d08-02cfa5d7255f",
   "metadata": {},
   "outputs": [],
   "source": [
    "data = {\n",
    "    'tree_type': ['Oak', 'Pine', 'Maple', 'Oak', 'Pine', 'Maple', 'Oak', 'Pine', 'Maple'],\n",
    "    'tree_weight': [500, 300, 450, 600, 350, 400, 550, 375, 425],  # weights in pounds\n",
    "    'tree_height': [20, 25, 30, 22, 28, 33, 21, 26, 32]  # heights in yards\n",
    "}"
   ]
  },
  {
   "cell_type": "code",
   "execution_count": 9,
   "id": "edb68aa8-475a-4ba9-813c-008319f8c0aa",
   "metadata": {},
   "outputs": [],
   "source": [
    "df = pd.DataFrame(data)"
   ]
  },
  {
   "cell_type": "code",
   "execution_count": 10,
   "id": "1000aee4-c321-4fe6-aba1-c5cc8414f045",
   "metadata": {},
   "outputs": [],
   "source": [
    "df.to_csv('example.csv', index=False)"
   ]
  },
  {
   "cell_type": "code",
   "execution_count": 11,
   "id": "8fe536ee-c151-44c4-8b14-326c504103d0",
   "metadata": {},
   "outputs": [],
   "source": [
    "df = pd.read_csv('example.csv')"
   ]
  },
  {
   "cell_type": "code",
   "execution_count": 12,
   "id": "f64f2837-e0e3-4531-a485-a0e554479bf9",
   "metadata": {},
   "outputs": [],
   "source": [
    "df['tree_weight_kg'] = df['tree_weight'] * POUNDS_TO_KG"
   ]
  },
  {
   "cell_type": "code",
   "execution_count": 13,
   "id": "d7d3e7dd-65d5-49d3-b44b-2f03683822fb",
   "metadata": {},
   "outputs": [],
   "source": [
    "df['tree_height_m'] = df['tree_height'] * YARDS_TO_METERS"
   ]
  },
  {
   "cell_type": "code",
   "execution_count": 14,
   "id": "10dff5e0-d76b-472b-9511-e453178c5e07",
   "metadata": {},
   "outputs": [],
   "source": [
    "def calculate_min_max(df):\n",
    "    result = {}\n",
    "    for tree_type in df['tree_type'].unique():\n",
    "        tree_data = df[df['tree_type'] == tree_type]\n",
    "        min_weight = tree_data['tree_weight_kg'].min()\n",
    "        max_weight = tree_data['tree_weight_kg'].max()\n",
    "        min_height = tree_data['tree_height_m'].min()\n",
    "        max_height = tree_data['tree_height_m'].max()\n",
    "        \n",
    "        result[tree_type] = {\n",
    "            'min_weight_kg': min_weight,\n",
    "            'max_weight_kg': max_weight,\n",
    "            'min_height_m': min_height,\n",
    "            'max_height_m': max_height\n",
    "        }\n",
    "    return result"
   ]
  },
  {
   "cell_type": "code",
   "execution_count": 15,
   "id": "c765a40a-b88d-4b0d-84b1-cb33ee8ac64b",
   "metadata": {},
   "outputs": [],
   "source": [
    "min_max_values = calculate_min_max(df)"
   ]
  },
  {
   "cell_type": "code",
   "execution_count": 16,
   "id": "67e7f59f-956d-4004-aebd-541cc56ef231",
   "metadata": {},
   "outputs": [
    {
     "name": "stdout",
     "output_type": "stream",
     "text": [
      "Tree Type: Oak\n",
      "  Min Weight (kg): 226.796\n",
      "  Max Weight (kg): 272.155\n",
      "  Min Height (m): 18.288\n",
      "  Max Height (m): 20.117\n",
      "\n",
      "Tree Type: Pine\n",
      "  Min Weight (kg): 136.078\n",
      "  Max Weight (kg): 170.097\n",
      "  Min Height (m): 22.860\n",
      "  Max Height (m): 25.603\n",
      "\n",
      "Tree Type: Maple\n",
      "  Min Weight (kg): 181.437\n",
      "  Max Weight (kg): 204.116\n",
      "  Min Height (m): 27.432\n",
      "  Max Height (m): 30.175\n",
      "\n"
     ]
    }
   ],
   "source": [
    "for tree_type, values in min_max_values.items():\n",
    "    print(f\"Tree Type: {tree_type}\")\n",
    "    print(f\"  Min Weight (kg): {values['min_weight_kg']:.3f}\")\n",
    "    print(f\"  Max Weight (kg): {values['max_weight_kg']:.3f}\")\n",
    "    print(f\"  Min Height (m): {values['min_height_m']:.3f}\")\n",
    "    print(f\"  Max Height (m): {values['max_height_m']:.3f}\")\n",
    "    print()"
   ]
  },
  {
   "cell_type": "code",
   "execution_count": null,
   "id": "adc958cd-50d5-4848-97b8-02319581ee00",
   "metadata": {},
   "outputs": [],
   "source": []
  }
 ],
 "metadata": {
  "kernelspec": {
   "display_name": "Python 3 (ipykernel)",
   "language": "python",
   "name": "python3"
  },
  "language_info": {
   "codemirror_mode": {
    "name": "ipython",
    "version": 3
   },
   "file_extension": ".py",
   "mimetype": "text/x-python",
   "name": "python",
   "nbconvert_exporter": "python",
   "pygments_lexer": "ipython3",
   "version": "3.12.2"
  }
 },
 "nbformat": 4,
 "nbformat_minor": 5
}
