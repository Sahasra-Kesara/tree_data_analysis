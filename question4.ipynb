{
 "cells": [
  {
   "cell_type": "code",
   "execution_count": 1,
   "id": "00fc1a1a-c110-405e-bf59-4bc3f0c9b28f",
   "metadata": {},
   "outputs": [],
   "source": [
    "from datetime import datetime, timedelta"
   ]
  },
  {
   "cell_type": "code",
   "execution_count": 2,
   "id": "268ebcdb-7a3e-4f85-8f8a-d46104954007",
   "metadata": {},
   "outputs": [],
   "source": [
    "current_datetime = datetime.now()"
   ]
  },
  {
   "cell_type": "code",
   "execution_count": 3,
   "id": "56d9dc14-3126-4e38-aa5a-9642a06bfc10",
   "metadata": {},
   "outputs": [],
   "source": [
    "new_datetime = current_datetime - timedelta(days=3)"
   ]
  },
  {
   "cell_type": "code",
   "execution_count": 4,
   "id": "d59bd43f-7319-43f4-8ce6-986415666b96",
   "metadata": {},
   "outputs": [],
   "source": [
    "formatted_datetime = new_datetime.strftime('%A %d %B, %Y at %I:%M:%S%p')"
   ]
  },
  {
   "cell_type": "code",
   "execution_count": 5,
   "id": "5f920884-3751-429c-a42a-4890cbb9363e",
   "metadata": {},
   "outputs": [
    {
     "name": "stdout",
     "output_type": "stream",
     "text": [
      "Monday 20 May, 2024 at 09:52:49AM\n"
     ]
    }
   ],
   "source": [
    "print(formatted_datetime)"
   ]
  },
  {
   "cell_type": "code",
   "execution_count": null,
   "id": "e614a47a-ecb0-47d8-bab6-6403be38393b",
   "metadata": {},
   "outputs": [],
   "source": []
  }
 ],
 "metadata": {
  "kernelspec": {
   "display_name": "Python 3 (ipykernel)",
   "language": "python",
   "name": "python3"
  },
  "language_info": {
   "codemirror_mode": {
    "name": "ipython",
    "version": 3
   },
   "file_extension": ".py",
   "mimetype": "text/x-python",
   "name": "python",
   "nbconvert_exporter": "python",
   "pygments_lexer": "ipython3",
   "version": "3.12.2"
  }
 },
 "nbformat": 4,
 "nbformat_minor": 5
}
